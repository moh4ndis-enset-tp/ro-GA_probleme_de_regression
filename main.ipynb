{
 "cells": [
  {
   "cell_type": "markdown",
   "metadata": {},
   "source": [
    "# Algorithme génétique pour la régression linéaire\n",
    "\n",
    "Ce notebook implémente un algorithme génétique avec encodage réel pour résoudre un problème de régression linéaire sur un jeu de données publicitaires."
   ]
  },
  {
   "cell_type": "code",
   "execution_count": null,
   "metadata": {},
   "source": [
    "import numpy as np\n",
    "import matplotlib.pyplot as plt\n",
    "import pandas as pd\n",
    "from typing import List, Tuple, Optional, Union\n",
    "import random"
   ]
  },
  {
   "cell_type": "markdown",
   "metadata": {},
   "source": [
    "## Chargement et exploration des données"
   ]
  },
  {
   "cell_type": "code",
   "execution_count": null,
   "metadata": {},
   "source": [
    "# Charger les données\n",
    "data = pd.read_csv(\"Advertising Budget and Sales.csv\", index_col=0)\n",
    "print(\"Aperçu des données:\")\n",
    "print(data.head())"
   ]
  },
  {
   "cell_type": "code",
   "execution_count": null,
   "metadata": {},
   "source": [
    "# Extraire les caractéristiques (X) et la cible (y)\n",
    "X = data[['TV Ad Budget ($)', 'Radio Ad Budget ($)', 'Newspaper Ad Budget ($)']].values\n",
    "y = data['Sales ($)'].values\n",
    "\n",
    "# Normaliser les données (très important pour l'algorithme génétique)\n",
    "X_mean = np.mean(X, axis=0)\n",
    "X_std = np.std(X, axis=0)\n",
    "X_norm = (X - X_mean) / X_std\n",
    "\n",
    "# Ajouter une colonne de 1 pour le biais\n",
    "X_norm = np.hstack((np.ones((X_norm.shape[0], 1)), X_norm))"
   ]
  },
  {
   "cell_type": "markdown",
   "metadata": {},
   "source": [
    "## Définition des paramètres de l'algorithme génétique"
   ]
  },
  {
   "cell_type": "code",
   "execution_count": null,
   "metadata": {},
   "source": [
    "# Définition des paramètres\n",
    "PM = 0.1       # Probabilité de mutation\n",
    "PC = 0.8       # Probabilité de croisement\n",
    "TMAX = 100     # Nombre maximal d'itérations\n",
    "N = 30         # Taille de la population\n",
    "ALPHA = 1.2    # Paramètre pour la formule de Davis\n",
    "B = 3          # Paramètre pour la mutation"
   ]
  },
  {
   "cell_type": "markdown",
   "metadata": {},
   "source": [
    "## Implémentation des classes et fonctions"
   ]
  },
  {
   "cell_type": "code",
   "execution_count": null,
   "metadata": {},
   "source": [
    "class Individual:\n",
    "    def __init__(self, weights: Optional[np.ndarray] = None, dim: int = 4):\n",
    "        if weights is None:\n",
    "            # Initialisation aléatoire des poids entre -5 et 5\n",
    "            self.weights = np.random.uniform(-5, 5, dim)\n",
    "        else:\n",
    "            self.weights = weights\n",
    "        self.fitness = None\n",
    "        \n",
    "    def evaluate_fitness(self, X: np.ndarray, y: np.ndarray) -> float:\n",
    "        \"\"\"Calcule la fitness (erreur) de l'individu sur l'ensemble du dataset\"\"\"\n",
    "        y_pred = np.dot(X, self.weights)\n",
    "        # Erreur quadratique moyenne\n",
    "        error = np.mean(np.abs(y_pred - y))\n",
    "        self.fitness = error\n",
    "        return error\n",
    "    \n",
    "    def __str__(self) -> str:\n",
    "        return f\"Weights: {self.weights}, Fitness: {self.fitness}\""
   ]
  },
  {
   "cell_type": "code",
   "execution_count": null,
   "metadata": {},
   "source": [
    "def initialize_population(pop_size: int, dim: int) -> List[Individual]:\n",
    "    \"\"\"Initialise une population de taille pop_size avec des individus de dimension dim\"\"\"\n",
    "    return [Individual(dim=dim) for _ in range(pop_size)]\n",
    "\n",
    "def evaluate_population(population: List[Individual], X: np.ndarray, y: np.ndarray) -> None:\n",
    "    \"\"\"Évalue la fitness de chaque individu dans la population\"\"\"\n",
    "    for ind in population:\n",
    "        ind.evaluate_fitness(X, y)\n",
    "\n",
    "def select_parents(population: List[Individual], num_parents: int) -> List[Individual]:\n",
    "    \"\"\"Sélectionne les meilleurs individus comme parents\"\"\"\n",
    "    # Trier la population par fitness (du plus petit au plus grand car nous minimisons)\n",
    "    sorted_population = sorted(population, key=lambda ind: ind.fitness)\n",
    "    return sorted_population[:num_parents]\n",
    "\n",
    "def crossover_davis(parent1: Individual, parent2: Individual) -> Tuple[Individual, Individual, Individual]:\n",
    "    \"\"\"Effectue un croisement selon la formule de Davis\"\"\"\n",
    "    # R1 = 0.5P1 + 0.5P2\n",
    "    weights_r1 = 0.5 * parent1.weights + 0.5 * parent2.weights\n",
    "    r1 = Individual(weights_r1)\n",
    "    \n",
    "    # R2 = 1.5P1 - 0.5P2\n",
    "    weights_r2 = 1.5 * parent1.weights - 0.5 * parent2.weights\n",
    "    r2 = Individual(weights_r2)\n",
    "    \n",
    "    # R3 = -0.5P1 + 1.5P2\n",
    "    weights_r3 = -0.5 * parent1.weights + 1.5 * parent2.weights\n",
    "    r3 = Individual(weights_r3)\n",
    "    \n",
    "    return r1, r2, r3\n",
    "\n",
    "def mutate(individual: Individual, pm: float, b: int) -> Individual:\n",
    "    \"\"\"Applique une mutation sur un individu avec probabilité pm\"\"\"\n",
    "    if np.random.random() < pm:\n",
    "        # Choisir un gène aléatoire à muter\n",
    "        gene_idx = np.random.randint(0, len(individual.weights))\n",
    "        # Diviser sa valeur par b\n",
    "        individual.weights[gene_idx] /= b\n",
    "    return individual"
   ]
  },
  {
   "cell_type": "code",
   "execution_count": null,
   "metadata": {},
   "source": [
    "def genetic_algorithm(X: np.ndarray, y: np.ndarray, pm: float, pc: float, \n",
    "                      tmax: int, pop_size: int, alpha: float, b: int) -> Tuple[Individual, List[float]]:\n",
    "    \"\"\"\n",
    "    Exécute l'algorithme génétique avec encodage réel\n",
    "    \n",
    "    Args:\n",
    "        X: matrice des caractéristiques\n",
    "        y: vecteur cible\n",
    "        pm: probabilité de mutation\n",
    "        pc: probabilité de croisement\n",
    "        tmax: nombre maximal d'itérations\n",
    "        pop_size: taille de la population\n",
    "        alpha: paramètre pour la formule de Davis\n",
    "        b: paramètre pour la mutation\n",
    "        \n",
    "    Returns:\n",
    "        Tuple contenant le meilleur individu et l'historique des meilleures fitness\n",
    "    \"\"\"\n",
    "    # Initialisation de la population\n",
    "    population = initialize_population(pop_size, X.shape[1])\n",
    "    \n",
    "    # Évaluation de la population initiale\n",
    "    evaluate_population(population, X, y)\n",
    "    \n",
    "    # Historique des meilleures fitness\n",
    "    best_fitness_history = []\n",
    "    \n",
    "    for iteration in range(tmax):\n",
    "        # Sélection des meilleurs individus\n",
    "        best_individuals = select_parents(population, pop_size // 2)\n",
    "        \n",
    "        # Création de la nouvelle génération\n",
    "        new_population = []\n",
    "        \n",
    "        # Élitisme: conserver les 2 meilleurs individus\n",
    "        new_population.extend(best_individuals[:2])\n",
    "        \n",
    "        # Croisement et mutation pour générer le reste de la population\n",
    "        while len(new_population) < pop_size:\n",
    "            # Sélection aléatoire de deux parents parmi les meilleurs\n",
    "            parent1, parent2 = random.sample(best_individuals, 2)\n",
    "            \n",
    "            if np.random.random() < pc:\n",
    "                # Appliquer le croisement\n",
    "                offspring1, offspring2, offspring3 = crossover_davis(parent1, parent2)\n",
    "                \n",
    "                # Appliquer la mutation\n",
    "                offspring1 = mutate(offspring1, pm, b)\n",
    "                offspring2 = mutate(offspring2, pm, b)\n",
    "                offspring3 = mutate(offspring3, pm, b)\n",
    "                \n",
    "                # Évaluer les enfants\n",
    "                offspring1.evaluate_fitness(X, y)\n",
    "                offspring2.evaluate_fitness(X, y)\n",
    "                offspring3.evaluate_fitness(X, y)\n",
    "                \n",
    "                # Sélectionner le meilleur enfant\n",
    "                best_offspring = min([offspring1, offspring2, offspring3], key=lambda ind: ind.fitness)\n",
    "                new_population.append(best_offspring)\n",
    "            else:\n",
    "                # Si pas de croisement, ajouter un clone muté d'un parent\n",
    "                clone = Individual(parent1.weights.copy())\n",
    "                clone = mutate(clone, pm, b)\n",
    "                clone.evaluate_fitness(X, y)\n",
    "                new_population.append(clone)\n",
    "                \n",
    "        # S'assurer que la population a la bonne taille\n",
    "        new_population = new_population[:pop_size]\n",
    "        \n",
    "        # Remplacer l'ancienne population\n",
    "        population = new_population\n",
    "        \n",
    "        # Évaluer la nouvelle population\n",
    "        evaluate_population(population, X, y)\n",
    "        \n",
    "        # Enregistrer la meilleure fitness\n",
    "        best_fitness = min(ind.fitness for ind in population)\n",
    "        best_fitness_history.append(best_fitness)\n",
    "        \n",
    "        # Afficher la progression\n",
    "        if iteration % 10 == 0 or iteration == tmax - 1:\n",
    "            print(f\"Itération {iteration+1}/{tmax}, Meilleure fitness: {best_fitness:.6f}\")\n",
    "    \n",
    "    # Retourner le meilleur individu et l'historique\n",
    "    best_individual = min(population, key=lambda ind: ind.fitness)\n",
    "    return best_individual, best_fitness_history"
   ]
  },
  {
   "cell_type": "markdown",
   "metadata": {},
   "source": [
    "## Exécution de l'algorithme génétique"
   ]
  },
  {
   "cell_type": "code",
   "execution_count": null,
   "metadata": {},
   "source": [
    "# Exécution de l'algorithme\n",
    "best_solution, fitness_history = genetic_algorithm(\n",
    "    X=X_norm, y=y, pm=PM, pc=PC, tmax=TMAX, pop_size=N, alpha=ALPHA, b=B\n",
    ")"
   ]
  },
  {
   "cell_type": "markdown",
   "metadata": {},
   "source": [
    "## Analyse des résultats"
   ]
  },
  {
   "cell_type": "code",
   "execution_count": null,
   "metadata": {},
   "source": [
    "# Affichage des résultats\n",
    "print(\"\\nMeilleure solution trouvée:\")\n",
    "print(f\"Poids normalisés: {best_solution.weights}\")\n",
    "print(f\"Fitness (erreur moyenne absolue): {best_solution.fitness}\")\n",
    "\n",
    "# Interpréter les coefficients (dénormaliser pour plus de clarté)\n",
    "coef = best_solution.weights[1:] / X_std\n",
    "intercept = best_solution.weights[0] - np.sum(coef * X_mean)\n",
    "print(\"\\nÉquation du modèle de régression linéaire:\")\n",
    "print(f\"Sales = {intercept:.4f} + {coef[0]:.4f} × TV_Budget + {coef[1]:.4f} × Radio_Budget + {coef[2]:.4f} × Newspaper_Budget\")"
   ]
  },
  {
   "cell_type": "code",
   "execution_count": null,
   "metadata": {},
   "source": [
    "# Calculer R² pour évaluer la qualité du modèle\n",
    "y_pred = np.dot(X_norm, best_solution.weights)\n",
    "ss_total = np.sum((y - np.mean(y)) ** 2)\n",
    "ss_residual = np.sum((y - y_pred) ** 2)\n",
    "r_squared = 1 - (ss_residual / ss_total)\n",
    "print(f\"Coefficient de détermination (R²): {r_squared:.4f}\")"
   ]
  },
  {
   "cell_type": "markdown",
   "metadata": {},
   "source": [
    "## Visualisation des résultats"
   ]
  },
  {
   "cell_type": "code",
   "execution_count": null,
   "metadata": {},
   "source": [
    "# Tracer l'évolution de la fitness\n",
    "plt.figure(figsize=(10, 6))\n",
    "plt.plot(range(1, TMAX + 1), fitness_history, 'b-')\n",
    "plt.title('Évolution de la meilleure fitness au cours des itérations')\n",
    "plt.xlabel('Itération')\n",
    "plt.ylabel('Erreur moyenne absolue')\n",
    "plt.grid(True)\n",
    "plt.yscale('log')  # Échelle logarithmique pour mieux visualiser les améliorations\n",
    "plt.savefig('fitness_evolution_advertising.png')\n",
    "plt.show()"
   ]
  },
  {
   "cell_type": "code",
   "execution_count": null,
   "metadata": {},
   "source": [
    "# Visualiser les prédictions vs réalité\n",
    "plt.figure(figsize=(10, 6))\n",
    "plt.scatter(y, y_pred, alpha=0.5)\n",
    "plt.plot([min(y), max(y)], [min(y), max(y)], 'r--')\n",
    "plt.title('Prédictions vs Valeurs réelles')\n",
    "plt.xlabel('Valeurs réelles des ventes')\n",
    "plt.ylabel('Prédictions des ventes')\n",
    "plt.grid(True)\n",
    "plt.savefig('predictions_vs_actual_advertising.png')\n",
    "plt.show()"
   ]
  },
  {
   "cell_type": "markdown",
   "metadata": {},
   "source": [
    "## Analyse détaillée"
   ]
  },
  {
   "cell_type": "code",
   "execution_count": null,
   "metadata": {},
   "source": [
    "# Afficher les 10 premières et dernières itérations dans un tableau\n",
    "print(\"\\nÉvolution détaillée de la fitness:\")\n",
    "print(\"Itération | Fitness\")\n",
    "print(\"-\" * 20)\n",
    "for i in range(min(10, TMAX)):\n",
    "    print(f\"{i+1:9d} | {fitness_history[i]:.6f}\")\n",
    "if TMAX > 20:\n",
    "    print(\"...\")\n",
    "for i in range(max(10, TMAX-10), TMAX):\n",
    "    print(f\"{i+1:9d} | {fitness_history[i]:.6f}\")"
   ]
  },
  {
   "cell_type": "code",
   "execution_count": null,
   "metadata": {},
   "source": [
    "# Analyser l'importance relative des variables\n",
    "importance = np.abs(coef) / np.sum(np.abs(coef)) * 100\n",
    "print(\"\\nImportance relative des variables:\")\n",
    "print(f\"TV Ad Budget: {importance[0]:.2f}%\")\n",
    "print(f\"Radio Ad Budget: {importance[1]:.2f}%\")\n",
    "print(f\"Newspaper Ad Budget: {importance[2]:.2f}%\")"
   ]
  },
  {
   "cell_type": "code",
   "execution_count": null,
   "metadata": {},
   "source": [
    "# Créer un graphique à barres pour l'importance des variables\n",
    "plt.figure(figsize=(10, 6))\n",
    "variables = ['TV', 'Radio', 'Newspaper']\n",
    "plt.bar(variables, importance)\n",
    "plt.title('Importance relative des variables')\n",
    "plt.xlabel('Variable')\n",
    "plt.ylabel('Importance (%)')\n",
    "plt.grid(axis='y')\n",
    "for i, v in enumerate(importance):\n",
    "    plt.text(i, v + 1, f\"{v:.1f}%\", ha='center')\n",
    "plt.show()"
   ]
  },
  {
   "cell_type": "markdown",
   "metadata": {},
   "source": [
    "## Prédictions sur des exemples"
   ]
  },
  {
   "cell_type": "code",
   "execution_count": null,
   "metadata": {},
   "source": [
    "# Prédire les ventes pour quelques exemples de test\n",
    "print(\"\\nPrédictions pour quelques exemples:\")\n",
    "examples = [\n",
    "    [100, 20, 30],  # TV=100k, Radio=20k, Newspaper=30k\n",
    "    [200, 40, 10],  # TV=200k, Radio=40k, Newspaper=10k\n",
    "    [50, 50, 50]    # TV=50k, Radio=50k, Newspaper=50k\n",
    "]\n",
    "\n",
    "for i, example in enumerate(examples):\n",
    "    # Normaliser l'exemple\n",
    "    example_norm = (np.array(example) - X_mean) / X_std\n",
    "    # Ajouter le terme de biais\n",
    "    example_norm = np.insert(example_norm, 0, 1)\n",
    "    # Faire la prédiction\n",
    "    pred = np.dot(example_norm, best_solution.weights)\n",
    "    print(f\"Exemple {i+1}: TV={example[0]}k, Radio={example[1]}k, Newspaper={example[2]}k -> Ventes prédites: ${pred:.2f}k\")"
   ]
  },
  {
   "cell_type": "markdown",
   "metadata": {},
   "source": [
    "## Conclusion"
   ]
  },
  {
   "cell_type": "code",
   "execution_count": null,
   "metadata": {},
   "source": [
    "# Conclusion\n",
    "print(\"\\nConclusion:\")\n",
    "print(f\"L'algorithme génétique avec encodage réel a convergé vers une solution\")\n",
    "print(f\"avec une erreur moyenne absolue de {best_solution.fitness:.4f}k dollars.\")\n",
    "print(f\"Le modèle explique {r_squared*100:.2f}% de la variance des ventes.\")\n",
    "print(f\"La variable la plus importante est {['TV', 'Radio', 'Newspaper'][np.argmax(importance)]} avec {np.max(importance):.2f}% d'importance relative.\")"
   ]
  }
 ],
 "metadata": {
  "kernelspec": {
   "display_name": "Python 3",
   "language": "python",
   "name": "python3"
  },
  "language_info": {
   "codemirror_mode": {
    "name": "ipython",
    "version": 3
   },
   "file_extension": ".py",
   "mimetype": "text/x-python",
   "name": "python",
   "nbconvert_exporter": "python",
   "pygments_lexer": "ipython3",
   "version": "3.8.10"
  }
 },
 "nbformat": 4,
 "nbformat_minor": 4
}